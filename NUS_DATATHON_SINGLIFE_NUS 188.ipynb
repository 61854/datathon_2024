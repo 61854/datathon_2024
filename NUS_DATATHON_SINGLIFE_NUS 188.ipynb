{
   "cells": [
      {
         "cell_type": "markdown",
         "metadata": {},
         "source": [
            "##### The cell below is for you to keep track of the libraries used and install those libraries quickly\n",
            "##### Ensure that the proper library names are used and the syntax of `%pip install PACKAGE_NAME` is followed"
         ]
      },
      {
         "cell_type": "code",
         "execution_count": null,
         "metadata": {},
         "outputs": [],
         "source": [
            "%pip install ipykernel\n",
            "%pip install pandas \n",
            "%pip install numpy\n",
            "%pip install pyarrow\n",
            "%pip install fastparquet\n",
            "%pip install matplotlib\n",
            "%pip install scikit-learn\n",
            "%pip install imbalanced-learn\n",
            "%pip install xgboost\n",
            "\n",
            "# add commented pip installation lines for packages used as shown above for ease of testing\n",
            "# the line should be of the format %pip install PACKAGE_NAME "
         ]
      },
      {
         "cell_type": "markdown",
         "metadata": {},
         "source": [
            "## **DO NOT CHANGE** the filepath variable\n",
            "##### Instead, create a folder named 'data' in your current working directory and \n",
            "##### have the .parquet file inside that. A relative path *must* be used when loading data into pandas"
         ]
      },
      {
         "cell_type": "code",
         "execution_count": 13,
         "metadata": {},
         "outputs": [],
         "source": [
            "# import packages\n",
            "import pandas as pd\n",
            "import numpy as np\n",
            "import matplotlib.pyplot as plt\n",
            "from sklearn.preprocessing import LabelEncoder, MinMaxScaler\n",
            "from sklearn.model_selection import train_test_split\n",
            "from imblearn.over_sampling import SMOTE\n",
            "from xgboost import XGBClassifier\n",
            "from sklearn.metrics import classification_report, confusion_matrix\n",
            "\n",
            "# the initialised filepath MUST be a relative path to a folder named data that contains the parquet file\n",
            "filepath = \"./data/catB_train.parquet\" "
         ]
      },
      {
         "cell_type": "markdown",
         "metadata": {},
         "source": [
            "### **ALL** Code for machine learning and dataset analysis should be entered below. \n",
            "##### Ensure that your code is clear and readable.\n",
            "##### Comments and Markdown notes are advised to direct attention to pieces of code you deem useful."
         ]
      },
      {
         "cell_type": "markdown",
         "metadata": {},
         "source": [
            "## Data Cleaning and Preprocessing"
         ]
      },
      {
         "cell_type": "markdown",
         "metadata": {},
         "source": [
            "### Reading Data"
         ]
      },
      {
         "cell_type": "code",
         "execution_count": null,
         "metadata": {},
         "outputs": [],
         "source": [
            "df = pd.read_parquet(filepath)\n",
            "df.head()"
         ]
      },
      {
         "cell_type": "markdown",
         "metadata": {},
         "source": [
            "### Shape of Dataset"
         ]
      },
      {
         "cell_type": "markdown",
         "metadata": {},
         "source": [
            "### EDA"
         ]
      },
      {
         "cell_type": "code",
         "execution_count": 3,
         "metadata": {},
         "outputs": [
            {
               "name": "stdout",
               "output_type": "stream",
               "text": [
                  "Number of rows: 17992\n",
                  "Number of columns: 304\n"
               ]
            }
         ],
         "source": [
            "print(f\"Number of rows: {df.shape[0]}\")\n",
            "print(f\"Number of columns: {df.shape[1]}\")"
         ]
      },
      {
         "cell_type": "code",
         "execution_count": 16,
         "metadata": {},
         "outputs": [
            {
               "data": {
                  "text/plain": [
                     "Text(0.5, 1.0, 'Distribution of target column')"
                  ]
               },
               "execution_count": 16,
               "metadata": {},
               "output_type": "execute_result"
            },
            {
               "data": {
                  "image/png": "[encoded data removed]",
                  "text/plain": [
                     "<Figure size 640x480 with 1 Axes>"
                  ]
               },
               "metadata": {},
               "output_type": "display_data"
            }
         ],
         "source": [
            "#check if dataset is imbalanced\n",
            "plt.bar(x = ('0','1'),\n",
            "        height = ((df['f_purchase_lh'].isna()).sum(),(df['f_purchase_lh']==1).sum()))\n",
            "plt.title('Distribution of target column')\n"
         ]
      },
      {
         "cell_type": "markdown",
         "metadata": {},
         "source": [
            "### Drop Columns with Only One Unique Value"
         ]
      },
      {
         "cell_type": "code",
         "execution_count": 17,
         "metadata": {},
         "outputs": [
            {
               "name": "stdout",
               "output_type": "stream",
               "text": [
                  "Number of rows: 17992\n",
                  "Number of columns: 247\n"
               ]
            }
         ],
         "source": [
            "def drop_cols_with_one_value(df: pd.DataFrame) -> pd.DataFrame:\n",
            "    \"\"\"\n",
            "    Drop columns from a DataFrame that contain only a single unique value.\n",
            "\n",
            "    Parameters:\n",
            "    - df (pd.DataFrame): The input DataFrame.\n",
            "\n",
            "    Returns:\n",
            "    - pd.DataFrame: A DataFrame with columns containing only a single unique value removed.\n",
            "    \"\"\"\n",
            "    # Identify columns with a single unique value\n",
            "    single_value_columns = [col for col in df.columns if df[col].nunique(dropna=False) == 1]\n",
            "    columns_to_drop = set(single_value_columns)\n",
            "    \n",
            "    # Drop identified columns\n",
            "    df = df.drop(columns=columns_to_drop)\n",
            "\n",
            "    return df\n",
            "\n",
            "df = drop_cols_with_one_value(df)\n",
            "print(f\"Number of rows: {df.shape[0]}\")\n",
            "print(f\"Number of columns: {df.shape[1]}\")"
         ]
      },
      {
         "cell_type": "markdown",
         "metadata": {},
         "source": [
            "### Handling NaN Values in Coluns"
         ]
      },
      {
         "cell_type": "code",
         "execution_count": null,
         "metadata": {},
         "outputs": [],
         "source": [
            "def handle_na(df: pd.DataFrame) -> pd.DataFrame:\n",
            "    \"\"\"\n",
            "    Handle missing values in a DataFrame through a series of data imputation and preprocessing steps.\n",
            "\n",
            "    Parameters:\n",
            "    - df (pd.DataFrame): The input DataFrame.\n",
            "\n",
            "    Returns:\n",
            "    - pd.DataFrame: A DataFrame with missing values handled.\n",
            "    \"\"\"\n",
            "    # Convert target col to 0 or 1\n",
            "    df[\"f_purchase_lh\"] = df[\"f_purchase_lh\"].fillna(0)\n",
            "\n",
            "    # Dropping columns where na values take up 80% of the column\n",
            "    df_temp = df.dropna(thresh = df.shape[0]*0.2, axis = 1).copy()\n",
            "\n",
            "    # Drop clntnum column\n",
            "    df_temp = df_temp.drop('clntnum', axis=1)\n",
            "    \n",
            "    # Try casting categorical columns to numeric to reduce encoding\n",
            "    non_numeric_cols = df_temp.select_dtypes(include=[\"object\"]).columns\n",
            "    for i in range(len(non_numeric_cols)):\n",
            "        try:\n",
            "            df_temp[non_numeric_cols[i]] = pd.to_numeric(df_temp[non_numeric_cols[i]])\n",
            "        except ValueError:\n",
            "            continue\n",
            "    non_numeric_cols = df_temp.select_dtypes(include=[\"object\"]).columns\n",
            "\n",
            "    # Extract year from columns containing dates\n",
            "    df_temp['cltdob_fix'] = df_temp['cltdob_fix'].str[:4]\n",
            "    df_temp['min_occ_date'] = df_temp['min_occ_date'].str[:4]\n",
            "\n",
            "    # Fill NA values for categorical columns with 'Missing'\n",
            "    df_temp[non_numeric_cols] = df_temp[non_numeric_cols].fillna('Missing')\n",
            "\n",
            "    # Fill NA values for numerical columns with mean. For binary columns, mode is used\n",
            "    numeric_cols_with_na = df_temp.select_dtypes(include=[\"int64\", \"float64\"]).columns[df_temp.select_dtypes(include=[\"int64\", \"float64\"]).isna().any()].tolist()\n",
            "    \n",
            "    for i in numeric_cols_with_na:\n",
            "        if len(df_temp[i].unique()) <= 3:\n",
            "            df_temp[i] = df_temp[i].fillna(df_temp[i].mode()[0])\n",
            "        else:\n",
            "            df_temp[i] = df_temp[i].fillna(df_temp[i].mean())\n",
            "\n",
            "    return df_temp\n",
            "\n",
            "test_df = handle_na(df)\n",
            "test_df.head()"
         ]
      },
      {
         "cell_type": "markdown",
         "metadata": {},
         "source": [
            "### Encoding Dataframe"
         ]
      },
      {
         "cell_type": "code",
         "execution_count": null,
         "metadata": {},
         "outputs": [],
         "source": [
            "def encoder(df: pd.DataFrame) -> pd.DataFrame:\n",
            "    \"\"\"\n",
            "    Encodes strings found in a dataframe into numbers using sklearn's LabelEncoder\n",
            "\n",
            "    Parameters:\n",
            "    - df (pd.DataFrame): The input DataFrame.\n",
            "\n",
            "    Returns:\n",
            "    - pd.DataFrame: A DataFrame with numerical values.\n",
            "    \"\"\"        \n",
            "    # race and ctrycode is manually encoded into binary\n",
            "    test_df['race_desc'] = np.where(test_df['race_desc'] == 'Chinese', 1, 0)\n",
            "    test_df['ctrycode_desc'] = np.where(test_df['ctrycode_desc'] == 'Singapore', 1, 0)\n",
            "\n",
            "    # Dataframe manipulation via LabelEncoder\n",
            "    for column in df.columns:\n",
            "        # if column is already in numbers or column is 'clntnum', skip the column\n",
            "        if df[column].dtype == np.number:\n",
            "            continue\n",
            "        \n",
            "        else:\n",
            "            df[column] = LabelEncoder().fit_transform(df[column])\n",
            "\n",
            "    return df\n",
            "\n",
            "encoded_df = encoder(test_df)\n",
            "encoded_df.head()"
         ]
      },
      {
         "cell_type": "markdown",
         "metadata": {},
         "source": [
            "### Train-Test Split and Resampling Training Dataset"
         ]
      },
      {
         "cell_type": "code",
         "execution_count": 34,
         "metadata": {},
         "outputs": [],
         "source": [
            "def train_test_resample(df: pd.DataFrame) -> tuple:\n",
            "    \"\"\"\n",
            "    Splits a dataframe into training and test sets, and oversamples the training set via SMOTE.\n",
            "\n",
            "    Parameters:\n",
            "    - df (pd.DataFrame): The input DataFrame.\n",
            "\n",
            "    Returns:\n",
            "    - (x_train_resampled, x_test, y_train_resampled, y_test) (tuple of np.ndarray): 4 arrays attained after splitting the dataset into training and test sets.\n",
            "    \"\"\"      \n",
            "\n",
            "    # split into x and y dataframes\n",
            "    x = df.drop(['f_purchase_lh'], axis=1)\n",
            "    y = df['f_purchase_lh']\n",
            "\n",
            "    # MinMax normalization of values in x\n",
            "    min_max_scaler = MinMaxScaler()\n",
            "    x = min_max_scaler.fit_transform(x)\n",
            "\n",
            "    # split dataset into train and test split\n",
            "    x_train, x_test, y_train, y_test = train_test_split(x, y, test_size=0.2, random_state=1)\n",
            "\n",
            "    # rebalance dataset using smote\n",
            "    sm = SMOTE(random_state=1, k_neighbors=20)\n",
            "    x_train_resampled, y_train_resampled = sm.fit_resample(x_train, y_train)\n",
            "\n",
            "    return x_train_resampled, x_test, y_train_resampled, y_test\n",
            "\n",
            "x_train_resampled, x_test, y_train_resampled, y_test = train_test_resample(encoded_df)\n"
         ]
      },
      {
         "cell_type": "markdown",
         "metadata": {},
         "source": [
            "## Modelling"
         ]
      },
      {
         "cell_type": "markdown",
         "metadata": {},
         "source": [
            "### XGBoost Model"
         ]
      },
      {
         "cell_type": "code",
         "execution_count": 35,
         "metadata": {},
         "outputs": [
            {
               "name": "stdout",
               "output_type": "stream",
               "text": [
                  "[0 0 0 ... 0 0 0]\n",
                  "              precision    recall  f1-score   support\n",
                  "\n",
                  "         0.0       0.97      0.97      0.97      3457\n",
                  "         1.0       0.28      0.31      0.30       142\n",
                  "\n",
                  "    accuracy                           0.94      3599\n",
                  "   macro avg       0.63      0.64      0.63      3599\n",
                  "weighted avg       0.94      0.94      0.94      3599\n",
                  "\n",
                  "[[3346  111]\n",
                  " [  98   44]]\n"
               ]
            }
         ],
         "source": [
            "def prediction(x_train_resampled, x_test, y_train_resampled, y_test) -> tuple:\n",
            "      \"\"\"\n",
            "      Predicts whether a customer will purchase a policy in the next 3 months.\n",
            "\n",
            "      Parameters:\n",
            "      - x_train_resampled (np.ndarray): Resampled training set for features\n",
            "      - x_test (np.ndarray): Test set for features\n",
            "      - y_train_resampled (np.ndarray): Resampled training set for target column\n",
            "      - y_test (np.ndarray): Test set for target column\n",
            "\n",
            "      Returns:\n",
            "      - (y_pred, class_report, con_matrix) (tuple): \n",
            "        1) y_pred is the prediction of target column (either 0 or 1)\n",
            "        2) class_report contains the various scores (accuracy, f1-score etc) of the model\n",
            "        3) con_matrix contains the TP, TN, FP, FN values\n",
            "      \"\"\"     \n",
            "\n",
            "      # xgboost model\n",
            "      xgb_model = XGBClassifier(\n",
            "            learning_rate = 0.01,\n",
            "            subsample = 0.1,\n",
            "            colsample_bytree = 0.1,\n",
            "            max_depth = 8,\n",
            "      )\n",
            "\n",
            "      xgb_model.fit(x_train_resampled, y_train_resampled)\n",
            "      y_pred = xgb_model.predict(x_test)\n",
            "      class_report = classification_report(y_test, y_pred)\n",
            "      con_matrix = confusion_matrix(y_test, y_pred)\n",
            "\n",
            "      return y_pred, class_report, con_matrix\n",
            "\n",
            "y_pred, class_report, con_matrix = prediction(x_train_resampled, x_test, y_train_resampled, y_test)\n",
            "print(y_pred)\n",
            "print(class_report)\n",
            "print(con_matrix)"
         ]
      },
      {
         "cell_type": "markdown",
         "metadata": {},
         "source": [
            "## The cell below is **NOT** to be removed\n",
            "##### The function is to be amended so that it accepts the given input (dataframe) and returns the required output (list). \n",
            "##### It is recommended to test the function out prior to submission\n",
            "-------------------------------------------------------------------------------------------------------------------------------\n",
            "##### The hidden_data parsed into the function below will have the same layout columns wise as the dataset *SENT* to you\n",
            "##### Thus, ensure that steps taken to modify the initial dataset to fit into the model are also carried out in the function below"
         ]
      },
      {
         "cell_type": "code",
         "execution_count": 36,
         "metadata": {},
         "outputs": [],
         "source": [
            "def testing_hidden_data(hidden_data: pd.DataFrame) -> list:\n",
            "    '''DO NOT REMOVE THIS FUNCTION.\n",
            "\n",
            "    The function accepts a dataframe as input and return an iterable (list)\n",
            "    of binary classes as output.\n",
            "\n",
            "    The function should be coded to test on hidden data\n",
            "    and should include any preprocessing functions needed for your model to perform. \n",
            "        \n",
            "    All relevant code MUST be included in this function.\n",
            "    '''\n",
            "    result = []\n",
            "\n",
            "    # specify train file path\n",
            "    train_filepath = \"./data/catB_train.parquet\" \n",
            "    train_df = pd.read_parquet(train_filepath) #.iloc[5000:]\n",
            "    test_count = hidden_data.shape[0]\n",
            "\n",
            "    # drop all unwanted columns\n",
            "    merged_df = pd.concat([hidden_data, train_df])\n",
            "    dropped_df = drop_cols_with_one_value(merged_df)\n",
            "    \n",
            "    # clean up dropped_df\n",
            "    cleaned_df = handle_na(dropped_df)\n",
            "\n",
            "    # encode cleaned_df\n",
            "    encoded_df = encoder(cleaned_df)\n",
            "\n",
            "    # train test split \n",
            "    test_set = encoded_df.iloc[:test_count]\n",
            "    train_set = encoded_df.iloc[test_count:]\n",
            "    \n",
            "    x_train = train_set.drop(['f_purchase_lh'], axis=1)\n",
            "    y_train = train_set['f_purchase_lh']\n",
            "    x_test = test_set.drop(['f_purchase_lh'], axis=1)\n",
            "    y_test = test_set['f_purchase_lh']\n",
            "\n",
            "    # rebalance dataset using smote\n",
            "    sm = SMOTE(random_state=1, k_neighbors=20)\n",
            "    x_train_resampled, y_train_resampled = sm.fit_resample(x_train, y_train)\n",
            "\n",
            "    # generate the predictions\n",
            "    result, class_report, con_matrix = prediction(x_train_resampled, x_test, y_train_resampled, y_test)\n",
            "    \n",
            "    return result, class_report, con_matrix"
         ]
      },
      {
         "cell_type": "markdown",
         "metadata": {},
         "source": [
            "##### Cell to check testing_hidden_data function"
         ]
      },
      {
         "cell_type": "code",
         "execution_count": null,
         "metadata": {},
         "outputs": [],
         "source": [
            "# This cell should output a list of predictions.\n",
            "test_filepath = \"./data/catB_test.parquet\" # change this file path to the actual test filepath\n",
            "test_df = pd.read_parquet(test_filepath) #.iloc[:5000]\n",
            "\n",
            "# run the test \n",
            "result, class_report, con_matrix = testing_hidden_data(test_df)\n",
            "print(result)\n",
            "print(class_report)\n",
            "print(con_matrix)"
         ]
      },
      {
         "cell_type": "markdown",
         "metadata": {},
         "source": [
            "### Please have the filename renamed and ensure that it can be run with the requirements above being met. All the best!"
         ]
      }
   ],
   "metadata": {
      "kernelspec": {
         "display_name": "Python 3",
         "language": "python",
         "name": "python3"
      },
      "language_info": {
         "codemirror_mode": {
            "name": "ipython",
            "version": 3
         },
         "file_extension": ".py",
         "mimetype": "text/x-python",
         "name": "python",
         "nbconvert_exporter": "python",
         "pygments_lexer": "ipython3",
         "version": "3.11.4"
      }
   },
   "nbformat": 4,
   "nbformat_minor": 2
}
