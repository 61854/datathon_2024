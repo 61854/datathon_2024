{
 "cells": [
  {
   "cell_type": "markdown",
   "metadata": {},
   "source": [
    "##### The cell below is for you to keep track of the libraries used and install those libraries quickly\n",
    "##### Ensure that the proper library names are used and the syntax of `%pip install PACKAGE_NAME` is followed"
   ]
  },
  {
   "cell_type": "code",
   "execution_count": 1,
   "metadata": {},
   "outputs": [
    {
     "name": "stdout",
     "output_type": "stream",
     "text": [
      "Requirement already satisfied: ipykernel in c:\\users\\65979\\anaconda3\\lib\\site-packages (6.9.1)\n",
      "Requirement already satisfied: tornado<7.0,>=4.2 in c:\\users\\65979\\anaconda3\\lib\\site-packages (from ipykernel) (6.1)\n",
      "Requirement already satisfied: ipython>=7.23.1 in c:\\users\\65979\\anaconda3\\lib\\site-packages (from ipykernel) (8.2.0)\n",
      "Requirement already satisfied: nest-asyncio in c:\\users\\65979\\anaconda3\\lib\\site-packages (from ipykernel) (1.5.5)\n",
      "Note: you may need to restart the kernel to use updated packages.Requirement already satisfied: matplotlib-inline<0.2.0,>=0.1.0 in c:\\users\\65979\\anaconda3\\lib\\site-packages (from ipykernel) (0.1.2)\n",
      "Requirement already satisfied: debugpy<2.0,>=1.0.0 in c:\\users\\65979\\anaconda3\\lib\\site-packages (from ipykernel) (1.5.1)\n",
      "Requirement already satisfied: jupyter-client<8.0 in c:\\users\\65979\\anaconda3\\lib\\site-packages (from ipykernel) (6.1.12)\n",
      "\n",
      "Requirement already satisfied: traitlets<6.0,>=5.1.0 in c:\\users\\65979\\anaconda3\\lib\\site-packages (from ipykernel) (5.1.1)\n",
      "Requirement already satisfied: jedi>=0.16 in c:\\users\\65979\\anaconda3\\lib\\site-packages (from ipython>=7.23.1->ipykernel) (0.18.1)\n",
      "Requirement already satisfied: decorator in c:\\users\\65979\\anaconda3\\lib\\site-packages (from ipython>=7.23.1->ipykernel) (5.1.1)\n",
      "Requirement already satisfied: colorama in c:\\users\\65979\\anaconda3\\lib\\site-packages (from ipython>=7.23.1->ipykernel) (0.4.4)\n",
      "Requirement already satisfied: setuptools>=18.5 in c:\\users\\65979\\anaconda3\\lib\\site-packages (from ipython>=7.23.1->ipykernel) (61.2.0)\n",
      "Requirement already satisfied: prompt-toolkit!=3.0.0,!=3.0.1,<3.1.0,>=2.0.0 in c:\\users\\65979\\anaconda3\\lib\\site-packages (from ipython>=7.23.1->ipykernel) (3.0.20)\n",
      "Requirement already satisfied: backcall in c:\\users\\65979\\anaconda3\\lib\\site-packages (from ipython>=7.23.1->ipykernel) (0.2.0)\n",
      "Requirement already satisfied: pickleshare in c:\\users\\65979\\anaconda3\\lib\\site-packages (from ipython>=7.23.1->ipykernel) (0.7.5)\n",
      "Requirement already satisfied: stack-data in c:\\users\\65979\\anaconda3\\lib\\site-packages (from ipython>=7.23.1->ipykernel) (0.2.0)\n",
      "Requirement already satisfied: pygments>=2.4.0 in c:\\users\\65979\\anaconda3\\lib\\site-packages (from ipython>=7.23.1->ipykernel) (2.16.1)\n",
      "Requirement already satisfied: parso<0.9.0,>=0.8.0 in c:\\users\\65979\\anaconda3\\lib\\site-packages (from jedi>=0.16->ipython>=7.23.1->ipykernel) (0.8.3)\n",
      "Requirement already satisfied: jupyter-core>=4.6.0 in c:\\users\\65979\\anaconda3\\lib\\site-packages (from jupyter-client<8.0->ipykernel) (4.9.2)\n",
      "Requirement already satisfied: pyzmq>=13 in c:\\users\\65979\\anaconda3\\lib\\site-packages (from jupyter-client<8.0->ipykernel) (22.3.0)\n",
      "Requirement already satisfied: python-dateutil>=2.1 in c:\\users\\65979\\anaconda3\\lib\\site-packages (from jupyter-client<8.0->ipykernel) (2.8.2)\n",
      "Requirement already satisfied: pywin32>=1.0 in c:\\users\\65979\\anaconda3\\lib\\site-packages (from jupyter-core>=4.6.0->jupyter-client<8.0->ipykernel) (302)\n",
      "Requirement already satisfied: wcwidth in c:\\users\\65979\\anaconda3\\lib\\site-packages (from prompt-toolkit!=3.0.0,!=3.0.1,<3.1.0,>=2.0.0->ipython>=7.23.1->ipykernel) (0.2.5)\n",
      "Requirement already satisfied: six>=1.5 in c:\\users\\65979\\anaconda3\\lib\\site-packages (from python-dateutil>=2.1->jupyter-client<8.0->ipykernel) (1.16.0)\n",
      "Requirement already satisfied: asttokens in c:\\users\\65979\\anaconda3\\lib\\site-packages (from stack-data->ipython>=7.23.1->ipykernel) (2.0.5)\n",
      "Requirement already satisfied: executing in c:\\users\\65979\\anaconda3\\lib\\site-packages (from stack-data->ipython>=7.23.1->ipykernel) (0.8.3)\n",
      "Requirement already satisfied: pure-eval in c:\\users\\65979\\anaconda3\\lib\\site-packages (from stack-data->ipython>=7.23.1->ipykernel) (0.2.2)\n",
      "Requirement already satisfied: pandas in c:\\users\\65979\\anaconda3\\lib\\site-packages (1.4.2)\n",
      "Requirement already satisfied: python-dateutil>=2.8.1 in c:\\users\\65979\\anaconda3\\lib\\site-packages (from pandas) (2.8.2)\n",
      "Requirement already satisfied: pytz>=2020.1 in c:\\users\\65979\\anaconda3\\lib\\site-packages (from pandas) (2021.3)\n",
      "Requirement already satisfied: numpy>=1.18.5 in c:\\users\\65979\\anaconda3\\lib\\site-packages (from pandas) (1.21.5)\n",
      "Requirement already satisfied: six>=1.5 in c:\\users\\65979\\anaconda3\\lib\\site-packages (from python-dateutil>=2.8.1->pandas) (1.16.0)\n",
      "Note: you may need to restart the kernel to use updated packages.\n",
      "Requirement already satisfied: numpy in c:\\users\\65979\\anaconda3\\lib\\site-packages (1.21.5)\n",
      "Note: you may need to restart the kernel to use updated packages.\n",
      "Collecting pyarrow\n",
      "  Downloading pyarrow-15.0.0-cp39-cp39-win_amd64.whl (24.9 MB)\n",
      "Requirement already satisfied: numpy<2,>=1.16.6 in c:\\users\\65979\\anaconda3\\lib\\site-packages (from pyarrow) (1.21.5)\n",
      "Installing collected packages: pyarrow\n",
      "Successfully installed pyarrow-15.0.0\n",
      "Note: you may need to restart the kernel to use updated packages.\n",
      "Collecting fastparquet\n",
      "  Downloading fastparquet-2023.10.1-cp39-cp39-win_amd64.whl (667 kB)\n",
      "Requirement already satisfied: numpy>=1.20.3 in c:\\users\\65979\\anaconda3\\lib\\site-packages (from fastparquet) (1.21.5)\n",
      "Collecting pandas>=1.5.0\n",
      "  Downloading pandas-2.2.0-cp39-cp39-win_amd64.whl (11.6 MB)\n",
      "Collecting cramjam>=2.3\n",
      "  Downloading cramjam-2.8.1-cp39-none-win_amd64.whl (1.6 MB)\n",
      "Requirement already satisfied: packaging in c:\\users\\65979\\anaconda3\\lib\\site-packages (from fastparquet) (21.3)\n",
      "Requirement already satisfied: fsspec in c:\\users\\65979\\anaconda3\\lib\\site-packages (from fastparquet) (2022.2.0)\n",
      "Requirement already satisfied: pytz>=2020.1 in c:\\users\\65979\\anaconda3\\lib\\site-packages (from pandas>=1.5.0->fastparquet) (2021.3)\n",
      "Collecting tzdata>=2022.7\n",
      "  Downloading tzdata-2023.4-py2.py3-none-any.whl (346 kB)\n",
      "Collecting numpy>=1.20.3\n",
      "  Downloading numpy-1.26.3-cp39-cp39-win_amd64.whl (15.8 MB)\n",
      "Requirement already satisfied: python-dateutil>=2.8.2 in c:\\users\\65979\\anaconda3\\lib\\site-packages (from pandas>=1.5.0->fastparquet) (2.8.2)\n",
      "Requirement already satisfied: six>=1.5 in c:\\users\\65979\\anaconda3\\lib\\site-packages (from python-dateutil>=2.8.2->pandas>=1.5.0->fastparquet) (1.16.0)\n",
      "Requirement already satisfied: pyparsing!=3.0.5,>=2.0.2 in c:\\users\\65979\\anaconda3\\lib\\site-packages (from packaging->fastparquet) (3.0.4)\n",
      "Installing collected packages: tzdata, numpy, pandas, cramjam, fastparquet\n",
      "  Attempting uninstall: numpy\n",
      "    Found existing installation: numpy 1.21.5\n",
      "    Uninstalling numpy-1.21.5:\n",
      "      Successfully uninstalled numpy-1.21.5\n",
      "  Attempting uninstall: pandas\n",
      "    Found existing installation: pandas 1.4.2\n",
      "Note: you may need to restart the kernel to use updated packages.\n"
     ]
    },
    {
     "name": "stderr",
     "output_type": "stream",
     "text": [
      "ERROR: pip's dependency resolver does not currently take into account all the packages that are installed. This behaviour is the source of the following dependency conflicts.\n",
      "daal4py 2021.5.0 requires daal==2021.4.0, which is not installed.\n",
      "scipy 1.7.3 requires numpy<1.23.0,>=1.16.5, but you have numpy 1.26.3 which is incompatible.\n",
      "numba 0.55.1 requires numpy<1.22,>=1.18, but you have numpy 1.26.3 which is incompatible.\n"
     ]
    },
    {
     "name": "stdout",
     "output_type": "stream",
     "text": [
      "    Uninstalling pandas-1.4.2:\n",
      "      Successfully uninstalled pandas-1.4.2\n",
      "Successfully installed cramjam-2.8.1 fastparquet-2023.10.1 numpy-1.26.3 pandas-2.2.0 tzdata-2023.4\n",
      "Requirement already satisfied: matplotlib in c:\\users\\65979\\anaconda3\\lib\\site-packages (3.5.1)\n",
      "Requirement already satisfied: pyparsing>=2.2.1 in c:\\users\\65979\\anaconda3\\lib\\site-packages (from matplotlib) (3.0.4)\n",
      "Requirement already satisfied: python-dateutil>=2.7 in c:\\users\\65979\\anaconda3\\lib\\site-packages (from matplotlib) (2.8.2)\n",
      "Requirement already satisfied: cycler>=0.10 in c:\\users\\65979\\anaconda3\\lib\\site-packages (from matplotlib) (0.11.0)\n",
      "Requirement already satisfied: numpy>=1.17 in c:\\users\\65979\\anaconda3\\lib\\site-packages (from matplotlib) (1.26.3)\n",
      "Requirement already satisfied: pillow>=6.2.0 in c:\\users\\65979\\anaconda3\\lib\\site-packages (from matplotlib) (9.0.1)\n",
      "Requirement already satisfied: kiwisolver>=1.0.1 in c:\\users\\65979\\anaconda3\\lib\\site-packages (from matplotlib) (1.3.2)\n",
      "Requirement already satisfied: packaging>=20.0 in c:\\users\\65979\\anaconda3\\lib\\site-packages (from matplotlib) (21.3)\n",
      "Requirement already satisfied: fonttools>=4.22.0 in c:\\users\\65979\\anaconda3\\lib\\site-packages (from matplotlib) (4.25.0)\n",
      "Requirement already satisfied: six>=1.5 in c:\\users\\65979\\anaconda3\\lib\\site-packages (from python-dateutil>=2.7->matplotlib) (1.16.0)\n",
      "Note: you may need to restart the kernel to use updated packages.\n",
      "Requirement already satisfied: scikit-learn in c:\\users\\65979\\anaconda3\\lib\\site-packages (1.0.2)\n",
      "Requirement already satisfied: scipy>=1.1.0 in c:\\users\\65979\\anaconda3\\lib\\site-packages (from scikit-learn) (1.7.3)\n",
      "Requirement already satisfied: numpy>=1.14.6 in c:\\users\\65979\\anaconda3\\lib\\site-packages (from scikit-learn) (1.26.3)\n",
      "Requirement already satisfied: threadpoolctl>=2.0.0 in c:\\users\\65979\\anaconda3\\lib\\site-packages (from scikit-learn) (2.2.0)\n",
      "Requirement already satisfied: joblib>=0.11 in c:\\users\\65979\\anaconda3\\lib\\site-packages (from scikit-learn) (1.1.0)\n",
      "Collecting numpy>=1.14.6\n",
      "  Using cached numpy-1.22.4-cp39-cp39-win_amd64.whl (14.7 MB)\n",
      "Installing collected packages: numpy\n",
      "  Attempting uninstall: numpy\n",
      "    Found existing installation: numpy 1.26.3\n",
      "    Uninstalling numpy-1.26.3:\n",
      "      Successfully uninstalled numpy-1.26.3\n",
      "Successfully installed numpy-1.22.4\n",
      "Note: you may need to restart the kernel to use updated packages.\n"
     ]
    },
    {
     "name": "stderr",
     "output_type": "stream",
     "text": [
      "ERROR: pip's dependency resolver does not currently take into account all the packages that are installed. This behaviour is the source of the following dependency conflicts.\n",
      "daal4py 2021.5.0 requires daal==2021.4.0, which is not installed.\n",
      "numba 0.55.1 requires numpy<1.22,>=1.18, but you have numpy 1.22.4 which is incompatible.\n"
     ]
    },
    {
     "name": "stdout",
     "output_type": "stream",
     "text": [
      "Collecting imbalanced-learn\n",
      "  Downloading imbalanced_learn-0.12.0-py3-none-any.whl (257 kB)\n",
      "Collecting joblib>=1.1.1\n",
      "  Downloading joblib-1.3.2-py3-none-any.whl (302 kB)\n",
      "Requirement already satisfied: numpy>=1.17.3 in c:\\users\\65979\\anaconda3\\lib\\site-packages (from imbalanced-learn) (1.22.4)\n",
      "Requirement already satisfied: scikit-learn>=1.0.2 in c:\\users\\65979\\anaconda3\\lib\\site-packages (from imbalanced-learn) (1.0.2)\n",
      "Requirement already satisfied: scipy>=1.5.0 in c:\\users\\65979\\anaconda3\\lib\\site-packages (from imbalanced-learn) (1.7.3)\n",
      "Requirement already satisfied: threadpoolctl>=2.0.0 in c:\\users\\65979\\anaconda3\\lib\\site-packages (from imbalanced-learn) (2.2.0)\n",
      "Installing collected packages: joblib, imbalanced-learn\n",
      "  Attempting uninstall: joblib\n",
      "    Found existing installation: joblib 1.1.0\n",
      "    Uninstalling joblib-1.1.0:\n",
      "      Successfully uninstalled joblib-1.1.0\n",
      "Successfully installed imbalanced-learn-0.12.0 joblib-1.3.2\n",
      "Note: you may need to restart the kernel to use updated packages.\n"
     ]
    }
   ],
   "source": [
    "%pip install ipykernel\n",
    "%pip install pandas \n",
    "%pip install numpy\n",
    "%pip install pyarrow\n",
    "%pip install fastparquet\n",
    "%pip install matplotlib\n",
    "%pip install scikit-learn\n",
    "%pip install imbalanced-learn\n",
    "# add commented pip installation lines for packages used as shown above for ease of testing\n",
    "# the line should be of the format %pip install PACKAGE_NAME "
   ]
  },
  {
   "cell_type": "markdown",
   "metadata": {},
   "source": [
    "## **DO NOT CHANGE** the filepath variable\n",
    "##### Instead, create a folder named 'data' in your current working directory and \n",
    "##### have the .parquet file inside that. A relative path *must* be used when loading data into pandas"
   ]
  },
  {
   "cell_type": "code",
   "execution_count": 1,
   "metadata": {},
   "outputs": [
    {
     "name": "stderr",
     "output_type": "stream",
     "text": [
      "C:\\Users\\65979\\anaconda3\\lib\\site-packages\\pandas\\core\\computation\\expressions.py:21: UserWarning: Pandas requires version '2.8.4' or newer of 'numexpr' (version '2.8.1' currently installed).\n",
      "  from pandas.core.computation.check import NUMEXPR_INSTALLED\n",
      "C:\\Users\\65979\\anaconda3\\lib\\site-packages\\pandas\\core\\arrays\\masked.py:60: UserWarning: Pandas requires version '1.3.6' or newer of 'bottleneck' (version '1.3.4' currently installed).\n",
      "  from pandas.core import (\n"
     ]
    }
   ],
   "source": [
    "# Can have as many cells as you want for code\n",
    "import pandas as pd\n",
    "import matplotlib.pyplot as plt\n",
    "\n",
    "# the initialised filepath MUST be a relative path to a folder named data that contains the parquet file\n",
    "filepath = \"./data/catB_train.parquet\" "
   ]
  },
  {
   "cell_type": "markdown",
   "metadata": {},
   "source": [
    "### **ALL** Code for machine learning and dataset analysis should be entered below. \n",
    "##### Ensure that your code is clear and readable.\n",
    "##### Comments and Markdown notes are advised to direct attention to pieces of code you deem useful."
   ]
  },
  {
   "cell_type": "markdown",
   "metadata": {},
   "source": [
    "`clntnum`: Unique identifier for the client.\n",
    "\n",
    "`race_desc`: Description of the client's race.\n",
    "\n",
    "`ctrycode_desc`: Country code indicating the client's location.\n",
    "\n",
    "`clttype`: Customer status.\n",
    "\n",
    "`stat_flag`: Flag indicating ACTIVE, LAPSED or MATURED. E.g. if there’s at least one inforce policy, then the flag would be ACTIVE. If all of the client’s policies are all lapsed, then it is LAPSED.\n",
    "\n",
    "`min_occ_date`: Date of the client's first interaction or policy purchase with the company.\n",
    "\n",
    "`cltdob_fix`: Fixed or corrected date of birth of the client.\n",
    "\n",
    "`cltsex_fix`: Fixed or corrected gender of the client."
   ]
  },
  {
   "cell_type": "code",
   "execution_count": 2,
   "metadata": {},
   "outputs": [
    {
     "name": "stdout",
     "output_type": "stream",
     "text": [
      "ape_gi_42e115\n",
      "ape_ltc_1280bf\n",
      "ape_inv_dcd836\n",
      "ape_lh_d0adeb\n",
      "ape_gi_a10d1b\n",
      "ape_gi_29d435\n",
      "ape_gi_856320\n",
      "ape_gi_058815\n",
      "ape_32c74c\n",
      "sumins_gi_42e115\n",
      "sumins_ltc_1280bf\n",
      "sumins_inv_dcd836\n",
      "sumins_lh_d0adeb\n",
      "sumins_grp_22decf\n",
      "sumins_gi_a10d1b\n",
      "sumins_gi_29d435\n",
      "sumins_lh_e22a6a\n",
      "sumins_grp_e04c3a\n",
      "sumins_gi_856320\n",
      "sumins_grp_94baec\n",
      "sumins_gi_058815\n",
      "sumins_32c74c\n",
      "prempaid_gi_42e115\n",
      "prempaid_ltc_1280bf\n",
      "prempaid_inv_dcd836\n",
      "prempaid_lh_d0adeb\n",
      "prempaid_gi_a10d1b\n",
      "prempaid_gi_29d435\n",
      "prempaid_gi_856320\n",
      "prempaid_gi_058815\n",
      "prempaid_32c74c\n",
      "ape_d0adeb\n",
      "ape_gi\n",
      "f_hold_d0adeb\n",
      "f_hold_gi\n",
      "sumins_e22a6a\n",
      "sumins_d0adeb\n",
      "sumins_gi\n",
      "prempaid_d0adeb\n",
      "prempaid_gi\n",
      "f_ever_bought_d0adeb\n",
      "n_months_last_bought_d0adeb\n",
      "f_ever_bought_ltc_1280bf\n",
      "f_ever_bought_inv_dcd836\n",
      "f_ever_bought_lh_d0adeb\n",
      "f_ever_bought_32c74c\n",
      "n_months_last_bought_ltc_1280bf\n",
      "n_months_last_bought_inv_dcd836\n",
      "n_months_last_bought_lh_d0adeb\n",
      "giclaim_cnt_success\n",
      "recency_giclaim_success\n",
      "giclaim_cnt_unsuccess\n",
      "recency_giclaim_unsuccess\n",
      "flg_gi_claim_29d435_ever\n",
      "flg_gi_claim_058815_ever\n",
      "flg_gi_claim_42e115_ever\n",
      "flg_gi_claim_856320_ever\n"
     ]
    },
    {
     "data": {
      "text/html": [
       "<div>\n",
       "<style scoped>\n",
       "    .dataframe tbody tr th:only-of-type {\n",
       "        vertical-align: middle;\n",
       "    }\n",
       "\n",
       "    .dataframe tbody tr th {\n",
       "        vertical-align: top;\n",
       "    }\n",
       "\n",
       "    .dataframe thead th {\n",
       "        text-align: right;\n",
       "    }\n",
       "</style>\n",
       "<table border=\"1\" class=\"dataframe\">\n",
       "  <thead>\n",
       "    <tr style=\"text-align: right;\">\n",
       "      <th></th>\n",
       "      <th>clntnum</th>\n",
       "      <th>race_desc</th>\n",
       "      <th>ctrycode_desc</th>\n",
       "      <th>clttype</th>\n",
       "      <th>stat_flag</th>\n",
       "      <th>min_occ_date</th>\n",
       "      <th>cltdob_fix</th>\n",
       "      <th>cltsex_fix</th>\n",
       "      <th>flg_substandard</th>\n",
       "      <th>flg_is_borderline_standard</th>\n",
       "      <th>...</th>\n",
       "      <th>recency_hlthclaim_success</th>\n",
       "      <th>hlthclaim_cnt_unsuccess</th>\n",
       "      <th>recency_hlthclaim_unsuccess</th>\n",
       "      <th>flg_hlthclaim_839f8a_ever</th>\n",
       "      <th>recency_hlthclaim_839f8a</th>\n",
       "      <th>flg_hlthclaim_14cb37_ever</th>\n",
       "      <th>recency_hlthclaim_14cb37</th>\n",
       "      <th>giclaim_amt</th>\n",
       "      <th>recency_giclaim</th>\n",
       "      <th>f_purchase_lh</th>\n",
       "    </tr>\n",
       "  </thead>\n",
       "  <tbody>\n",
       "    <tr>\n",
       "      <th>19550</th>\n",
       "      <td>91b546e924</td>\n",
       "      <td>Chinese</td>\n",
       "      <td>Singapore</td>\n",
       "      <td>P</td>\n",
       "      <td>ACTIVE</td>\n",
       "      <td>2017-10-31</td>\n",
       "      <td>1974-05-09</td>\n",
       "      <td>Female</td>\n",
       "      <td>0.0</td>\n",
       "      <td>0.0</td>\n",
       "      <td>...</td>\n",
       "      <td>NaN</td>\n",
       "      <td>NaN</td>\n",
       "      <td>NaN</td>\n",
       "      <td>NaN</td>\n",
       "      <td>NaN</td>\n",
       "      <td>NaN</td>\n",
       "      <td>NaN</td>\n",
       "      <td>None</td>\n",
       "      <td>NaN</td>\n",
       "      <td>NaN</td>\n",
       "    </tr>\n",
       "    <tr>\n",
       "      <th>4600</th>\n",
       "      <td>896bae548c</td>\n",
       "      <td>Chinese</td>\n",
       "      <td>Singapore</td>\n",
       "      <td>P</td>\n",
       "      <td>ACTIVE</td>\n",
       "      <td>2007-05-23</td>\n",
       "      <td>1979-11-11</td>\n",
       "      <td>Male</td>\n",
       "      <td>0.0</td>\n",
       "      <td>0.0</td>\n",
       "      <td>...</td>\n",
       "      <td>NaN</td>\n",
       "      <td>NaN</td>\n",
       "      <td>NaN</td>\n",
       "      <td>NaN</td>\n",
       "      <td>NaN</td>\n",
       "      <td>NaN</td>\n",
       "      <td>NaN</td>\n",
       "      <td>None</td>\n",
       "      <td>NaN</td>\n",
       "      <td>NaN</td>\n",
       "    </tr>\n",
       "    <tr>\n",
       "      <th>13337</th>\n",
       "      <td>f364439ae6</td>\n",
       "      <td>Others</td>\n",
       "      <td>Singapore</td>\n",
       "      <td>P</td>\n",
       "      <td>ACTIVE</td>\n",
       "      <td>2019-08-31</td>\n",
       "      <td>1976-01-28</td>\n",
       "      <td>Male</td>\n",
       "      <td>0.0</td>\n",
       "      <td>0.0</td>\n",
       "      <td>...</td>\n",
       "      <td>NaN</td>\n",
       "      <td>NaN</td>\n",
       "      <td>NaN</td>\n",
       "      <td>NaN</td>\n",
       "      <td>NaN</td>\n",
       "      <td>NaN</td>\n",
       "      <td>NaN</td>\n",
       "      <td>None</td>\n",
       "      <td>NaN</td>\n",
       "      <td>NaN</td>\n",
       "    </tr>\n",
       "    <tr>\n",
       "      <th>15074</th>\n",
       "      <td>70f319cfe1</td>\n",
       "      <td>Chinese</td>\n",
       "      <td>Singapore</td>\n",
       "      <td>P</td>\n",
       "      <td>ACTIVE</td>\n",
       "      <td>2021-10-18</td>\n",
       "      <td>1976-03-19</td>\n",
       "      <td>Female</td>\n",
       "      <td>0.0</td>\n",
       "      <td>0.0</td>\n",
       "      <td>...</td>\n",
       "      <td>NaN</td>\n",
       "      <td>NaN</td>\n",
       "      <td>NaN</td>\n",
       "      <td>NaN</td>\n",
       "      <td>NaN</td>\n",
       "      <td>NaN</td>\n",
       "      <td>NaN</td>\n",
       "      <td>None</td>\n",
       "      <td>NaN</td>\n",
       "      <td>NaN</td>\n",
       "    </tr>\n",
       "    <tr>\n",
       "      <th>19724</th>\n",
       "      <td>2647a81328</td>\n",
       "      <td>Chinese</td>\n",
       "      <td>Singapore</td>\n",
       "      <td>P</td>\n",
       "      <td>ACTIVE</td>\n",
       "      <td>2018-07-20</td>\n",
       "      <td>1995-07-31</td>\n",
       "      <td>Female</td>\n",
       "      <td>0.0</td>\n",
       "      <td>0.0</td>\n",
       "      <td>...</td>\n",
       "      <td>NaN</td>\n",
       "      <td>NaN</td>\n",
       "      <td>NaN</td>\n",
       "      <td>NaN</td>\n",
       "      <td>NaN</td>\n",
       "      <td>NaN</td>\n",
       "      <td>NaN</td>\n",
       "      <td>None</td>\n",
       "      <td>NaN</td>\n",
       "      <td>NaN</td>\n",
       "    </tr>\n",
       "  </tbody>\n",
       "</table>\n",
       "<p>5 rows × 247 columns</p>\n",
       "</div>"
      ],
      "text/plain": [
       "          clntnum race_desc ctrycode_desc clttype stat_flag min_occ_date  \\\n",
       "19550  91b546e924   Chinese     Singapore       P    ACTIVE   2017-10-31   \n",
       "4600   896bae548c   Chinese     Singapore       P    ACTIVE   2007-05-23   \n",
       "13337  f364439ae6    Others     Singapore       P    ACTIVE   2019-08-31   \n",
       "15074  70f319cfe1   Chinese     Singapore       P    ACTIVE   2021-10-18   \n",
       "19724  2647a81328   Chinese     Singapore       P    ACTIVE   2018-07-20   \n",
       "\n",
       "       cltdob_fix cltsex_fix  flg_substandard  flg_is_borderline_standard  \\\n",
       "19550  1974-05-09     Female              0.0                         0.0   \n",
       "4600   1979-11-11       Male              0.0                         0.0   \n",
       "13337  1976-01-28       Male              0.0                         0.0   \n",
       "15074  1976-03-19     Female              0.0                         0.0   \n",
       "19724  1995-07-31     Female              0.0                         0.0   \n",
       "\n",
       "       ...  recency_hlthclaim_success  hlthclaim_cnt_unsuccess  \\\n",
       "19550  ...                        NaN                      NaN   \n",
       "4600   ...                        NaN                      NaN   \n",
       "13337  ...                        NaN                      NaN   \n",
       "15074  ...                        NaN                      NaN   \n",
       "19724  ...                        NaN                      NaN   \n",
       "\n",
       "       recency_hlthclaim_unsuccess  flg_hlthclaim_839f8a_ever  \\\n",
       "19550                          NaN                        NaN   \n",
       "4600                           NaN                        NaN   \n",
       "13337                          NaN                        NaN   \n",
       "15074                          NaN                        NaN   \n",
       "19724                          NaN                        NaN   \n",
       "\n",
       "       recency_hlthclaim_839f8a  flg_hlthclaim_14cb37_ever  \\\n",
       "19550                       NaN                        NaN   \n",
       "4600                        NaN                        NaN   \n",
       "13337                       NaN                        NaN   \n",
       "15074                       NaN                        NaN   \n",
       "19724                       NaN                        NaN   \n",
       "\n",
       "       recency_hlthclaim_14cb37  giclaim_amt  recency_giclaim  f_purchase_lh  \n",
       "19550                       NaN         None              NaN            NaN  \n",
       "4600                        NaN         None              NaN            NaN  \n",
       "13337                       NaN         None              NaN            NaN  \n",
       "15074                       NaN         None              NaN            NaN  \n",
       "19724                       NaN         None              NaN            NaN  \n",
       "\n",
       "[5 rows x 247 columns]"
      ]
     },
     "execution_count": 2,
     "metadata": {},
     "output_type": "execute_result"
    }
   ],
   "source": [
    "###...code...###\n",
    "test_df = pd.read_parquet(filepath)\n",
    "\n",
    "# drop these columns\n",
    "to_drop = []\n",
    "for i in range(len(test_df.columns)):\n",
    "    # if column has only 1 unique value, that column is unimportant as a feature\n",
    "    if len(test_df[test_df.columns[i]].unique()) == 1:\n",
    "        print(test_df.columns[i])\n",
    "        # print(len(test_df[test_df.columns[i]].unique()))\n",
    "        to_drop.append(i)\n",
    "\n",
    "dropped_df = test_df.drop(test_df.columns[to_drop], axis=1)\n",
    "dropped_df.head()"
   ]
  },
  {
   "cell_type": "code",
   "execution_count": 6,
   "metadata": {},
   "outputs": [
    {
     "name": "stdout",
     "output_type": "stream",
     "text": [
      "race_desc\n",
      "Chinese    10520\n",
      "Indian       849\n",
      "Malay        928\n",
      "Others      1699\n",
      "Name: clntnum, dtype: int64\n",
      "\n",
      "           f_purchase_lh\n",
      "race_desc               \n",
      "Chinese              521\n",
      "Indian                11\n",
      "Malay                 21\n",
      "Others               112\n",
      "\n",
      "Chinese: 4.952471482889734\n",
      "Indian: 1.2956419316843346\n",
      "Malay: 2.2629310344827585\n",
      "Others: 6.59211300765156\n"
     ]
    }
   ],
   "source": [
    "# By Race\n",
    "print(dropped_df.groupby('race_desc').count()['clntnum'])\n",
    "print()\n",
    "\n",
    "print(dropped_df.groupby('race_desc').agg({\"f_purchase_lh\": 'count'}))\n",
    "print()\n",
    "\n",
    "print(f'Chinese: {521/10520*100}')\n",
    "print(f'Indian: {11/849 *100}')\n",
    "print(f'Malay: {21/928 *100}')\n",
    "print(f'Others: {112/1699 *100}')"
   ]
  },
  {
   "cell_type": "code",
   "execution_count": 7,
   "metadata": {},
   "outputs": [
    {
     "data": {
      "text/html": [
       "<div>\n",
       "<style scoped>\n",
       "    .dataframe tbody tr th:only-of-type {\n",
       "        vertical-align: middle;\n",
       "    }\n",
       "\n",
       "    .dataframe tbody tr th {\n",
       "        vertical-align: top;\n",
       "    }\n",
       "\n",
       "    .dataframe thead th {\n",
       "        text-align: right;\n",
       "    }\n",
       "</style>\n",
       "<table border=\"1\" class=\"dataframe\">\n",
       "  <thead>\n",
       "    <tr style=\"text-align: right;\">\n",
       "      <th></th>\n",
       "      <th>f_purchase_lh</th>\n",
       "    </tr>\n",
       "    <tr>\n",
       "      <th>ctrycode_desc</th>\n",
       "      <th></th>\n",
       "    </tr>\n",
       "  </thead>\n",
       "  <tbody>\n",
       "    <tr>\n",
       "      <th>Singapore</th>\n",
       "      <td>710</td>\n",
       "    </tr>\n",
       "    <tr>\n",
       "      <th>Australia</th>\n",
       "      <td>0</td>\n",
       "    </tr>\n",
       "    <tr>\n",
       "      <th>Bosnia-Herzegovina</th>\n",
       "      <td>0</td>\n",
       "    </tr>\n",
       "    <tr>\n",
       "      <th>United States</th>\n",
       "      <td>0</td>\n",
       "    </tr>\n",
       "    <tr>\n",
       "      <th>United Kingdom</th>\n",
       "      <td>0</td>\n",
       "    </tr>\n",
       "  </tbody>\n",
       "</table>\n",
       "</div>"
      ],
      "text/plain": [
       "                    f_purchase_lh\n",
       "ctrycode_desc                    \n",
       "Singapore                     710\n",
       "Australia                       0\n",
       "Bosnia-Herzegovina              0\n",
       "United States                   0\n",
       "United Kingdom                  0"
      ]
     },
     "execution_count": 7,
     "metadata": {},
     "output_type": "execute_result"
    }
   ],
   "source": [
    "# By country\n",
    "# only singaporeans are likely to buy insurance\n",
    "dropped_df.groupby('ctrycode_desc').agg({\"f_purchase_lh\": 'count'}).sort_values(by='f_purchase_lh', ascending=False).iloc[:5]"
   ]
  },
  {
   "cell_type": "code",
   "execution_count": 8,
   "metadata": {},
   "outputs": [
    {
     "name": "stdout",
     "output_type": "stream",
     "text": [
      "clttype\n",
      "C       24\n",
      "G     3311\n",
      "P    14657\n",
      "Name: clntnum, dtype: int64\n",
      "\n",
      "         f_purchase_lh\n",
      "clttype               \n",
      "C                    2\n",
      "G                   36\n",
      "P                  672\n",
      "\n",
      "C type: 8.333333333333332\n",
      "G type: 1.0872848082150408\n",
      "P type: 4.584840008187214\n"
     ]
    }
   ],
   "source": [
    "# By clttype\n",
    "print(dropped_df.groupby('clttype').count()['clntnum'])\n",
    "print()\n",
    "\n",
    "print(dropped_df.groupby('clttype').agg({\"f_purchase_lh\": 'count'}))\n",
    "print()\n",
    "\n",
    "print(f'C type: {2/24*100}')\n",
    "print(f'G type: {36/3311 *100}')\n",
    "print(f'P type: {672/14657 *100}')\n"
   ]
  },
  {
   "cell_type": "code",
   "execution_count": 65,
   "metadata": {},
   "outputs": [
    {
     "name": "stdout",
     "output_type": "stream",
     "text": [
      "stat_flag\n",
      "ACTIVE     17205\n",
      "LAPSED       775\n",
      "MATURED       12\n",
      "Name: clntnum, dtype: int64\n",
      "\n",
      "           f_purchase_lh\n",
      "stat_flag               \n",
      "ACTIVE               694\n",
      "LAPSED                16\n",
      "MATURED                0\n",
      "\n",
      "Active: 4.033711130485324\n",
      "Lapsed: 2.064516129032258\n"
     ]
    }
   ],
   "source": [
    "# By stat_flag\n",
    "print(dropped_df.groupby('stat_flag').count()['clntnum'])\n",
    "print()\n",
    "\n",
    "print(dropped_df.groupby('stat_flag').agg({\"f_purchase_lh\": 'count'}))\n",
    "print()\n",
    "\n",
    "print(f'Active: {694/17205 *100}')\n",
    "print(f'Lapsed: {16/775 *100}')"
   ]
  },
  {
   "cell_type": "code",
   "execution_count": 66,
   "metadata": {},
   "outputs": [
    {
     "name": "stdout",
     "output_type": "stream",
     "text": [
      "min_occ_year\n",
      "1954       1\n",
      "1959       1\n",
      "1962       1\n",
      "1968       1\n",
      "1971       1\n",
      "1972       2\n",
      "1974       4\n",
      "1975       2\n",
      "1977       4\n",
      "1978       1\n",
      "1979       5\n",
      "1980       3\n",
      "1981       1\n",
      "1982       4\n",
      "1983      13\n",
      "1984       6\n",
      "1985       8\n",
      "1986      12\n",
      "1987      12\n",
      "1988      31\n",
      "1989      24\n",
      "1990      37\n",
      "1991      46\n",
      "1992      38\n",
      "1993      38\n",
      "1994      44\n",
      "1995      42\n",
      "1996      41\n",
      "1997      29\n",
      "1998      46\n",
      "1999      25\n",
      "2000      54\n",
      "2001      98\n",
      "2002     168\n",
      "2003     218\n",
      "2004     247\n",
      "2005     407\n",
      "2006     486\n",
      "2007     394\n",
      "2008     634\n",
      "2009     597\n",
      "2010     665\n",
      "2011     739\n",
      "2012     715\n",
      "2013     721\n",
      "2014     787\n",
      "2015    1109\n",
      "2016    1149\n",
      "2017     803\n",
      "2018     948\n",
      "2019     898\n",
      "2020    1301\n",
      "2021     864\n",
      "2022    1442\n",
      "2023    2015\n",
      "None      10\n",
      "Name: clntnum, dtype: int64\n",
      "\n",
      "              f_purchase_lh\n",
      "min_occ_year               \n",
      "1954                      0\n",
      "1959                      0\n",
      "1962                      0\n",
      "1968                      0\n",
      "1971                      0\n",
      "1972                      0\n",
      "1974                      0\n",
      "1975                      0\n",
      "1977                      0\n",
      "1978                      0\n",
      "1979                      0\n",
      "1980                      1\n",
      "1981                      0\n",
      "1982                      0\n",
      "1983                      1\n",
      "1984                      0\n",
      "1985                      0\n",
      "1986                      0\n",
      "1987                      0\n",
      "1988                      2\n",
      "1989                      1\n",
      "1990                      1\n",
      "1991                      5\n",
      "1992                      4\n",
      "1993                      1\n",
      "1994                      3\n",
      "1995                      2\n",
      "1996                      3\n",
      "1997                      0\n",
      "1998                      4\n",
      "1999                      2\n",
      "2000                      2\n",
      "2001                      6\n",
      "2002                      8\n",
      "2003                      8\n",
      "2004                     18\n",
      "2005                     17\n",
      "2006                     22\n",
      "2007                     16\n",
      "2008                     20\n",
      "2009                     35\n",
      "2010                     28\n",
      "2011                     41\n",
      "2012                     26\n",
      "2013                     36\n",
      "2014                     28\n",
      "2015                     46\n",
      "2016                     48\n",
      "2017                     32\n",
      "2018                     38\n",
      "2019                     36\n",
      "2020                     46\n",
      "2021                     36\n",
      "2022                     46\n",
      "2023                     41\n",
      "None                      0\n"
     ]
    }
   ],
   "source": [
    "# by min_occ_year\n",
    "new_df = dropped_df\n",
    "new_df['min_occ_year'] = dropped_df['min_occ_date'].str.slice(stop=4) \n",
    "\n",
    "print(new_df.groupby('min_occ_year').count()['clntnum'])\n",
    "print()\n",
    "\n",
    "print(new_df.groupby('min_occ_year').agg({\"f_purchase_lh\": 'count'}))"
   ]
  },
  {
   "cell_type": "code",
   "execution_count": 67,
   "metadata": {},
   "outputs": [
    {
     "data": {
      "text/html": [
       "<div>\n",
       "<style scoped>\n",
       "    .dataframe tbody tr th:only-of-type {\n",
       "        vertical-align: middle;\n",
       "    }\n",
       "\n",
       "    .dataframe tbody tr th {\n",
       "        vertical-align: top;\n",
       "    }\n",
       "\n",
       "    .dataframe thead th {\n",
       "        text-align: right;\n",
       "    }\n",
       "</style>\n",
       "<table border=\"1\" class=\"dataframe\">\n",
       "  <thead>\n",
       "    <tr style=\"text-align: right;\">\n",
       "      <th></th>\n",
       "      <th>f_purchase_lh</th>\n",
       "    </tr>\n",
       "    <tr>\n",
       "      <th>cltdob_fix_year</th>\n",
       "      <th></th>\n",
       "    </tr>\n",
       "  </thead>\n",
       "  <tbody>\n",
       "    <tr>\n",
       "      <th>1990</th>\n",
       "      <td>40</td>\n",
       "    </tr>\n",
       "    <tr>\n",
       "      <th>1989</th>\n",
       "      <td>36</td>\n",
       "    </tr>\n",
       "    <tr>\n",
       "      <th>1993</th>\n",
       "      <td>30</td>\n",
       "    </tr>\n",
       "    <tr>\n",
       "      <th>1991</th>\n",
       "      <td>30</td>\n",
       "    </tr>\n",
       "    <tr>\n",
       "      <th>1983</th>\n",
       "      <td>25</td>\n",
       "    </tr>\n",
       "    <tr>\n",
       "      <th>...</th>\n",
       "      <td>...</td>\n",
       "    </tr>\n",
       "    <tr>\n",
       "      <th>1945</th>\n",
       "      <td>0</td>\n",
       "    </tr>\n",
       "    <tr>\n",
       "      <th>1946</th>\n",
       "      <td>0</td>\n",
       "    </tr>\n",
       "    <tr>\n",
       "      <th>1947</th>\n",
       "      <td>0</td>\n",
       "    </tr>\n",
       "    <tr>\n",
       "      <th>1949</th>\n",
       "      <td>0</td>\n",
       "    </tr>\n",
       "    <tr>\n",
       "      <th>1924</th>\n",
       "      <td>0</td>\n",
       "    </tr>\n",
       "  </tbody>\n",
       "</table>\n",
       "<p>83 rows × 1 columns</p>\n",
       "</div>"
      ],
      "text/plain": [
       "                 f_purchase_lh\n",
       "cltdob_fix_year               \n",
       "1990                        40\n",
       "1989                        36\n",
       "1993                        30\n",
       "1991                        30\n",
       "1983                        25\n",
       "...                        ...\n",
       "1945                         0\n",
       "1946                         0\n",
       "1947                         0\n",
       "1949                         0\n",
       "1924                         0\n",
       "\n",
       "[83 rows x 1 columns]"
      ]
     },
     "execution_count": 67,
     "metadata": {},
     "output_type": "execute_result"
    }
   ],
   "source": [
    "# by cltdob_fix\n",
    "new_df['cltdob_fix_year'] = dropped_df['cltdob_fix'].str.slice(stop=4) \n",
    "\n",
    "# print(new_df.groupby('cltdob_fix_year').count()['clntnum'])\n",
    "# print()\n",
    "\n",
    "new_df.groupby('cltdob_fix_year').agg({\"f_purchase_lh\": 'count'}).sort_values('f_purchase_lh', ascending=False)\n"
   ]
  },
  {
   "cell_type": "code",
   "execution_count": null,
   "metadata": {},
   "outputs": [],
   "source": [
    "# By Gender\n",
    "print(dropped_df.groupby('cltsex_fix').count()['clntnum'])\n",
    "print()\n",
    "\n",
    "print(dropped_df.groupby('cltsex_fix').agg({\"f_purchase_lh\": 'count'}))\n",
    "print()\n",
    "\n",
    "print(f'Female: {345/8196 *100}')\n",
    "print(f'Male: {363/9773 *100}')"
   ]
  },
  {
   "cell_type": "markdown",
   "metadata": {},
   "source": [
    "### Further data transformations\n",
    "Taking current date as 25-01-2024"
   ]
  },
  {
   "cell_type": "code",
   "execution_count": 3,
   "metadata": {},
   "outputs": [],
   "source": [
    "# fill target na with 0s\n",
    "dropped_df['f_purchase_lh'] = dropped_df['f_purchase_lh'].fillna(0)"
   ]
  },
  {
   "cell_type": "code",
   "execution_count": 4,
   "metadata": {},
   "outputs": [
    {
     "data": {
      "text/plain": [
       "710.0"
      ]
     },
     "execution_count": 4,
     "metadata": {},
     "output_type": "execute_result"
    }
   ],
   "source": [
    "dropped_df['f_purchase_lh'].sum()"
   ]
  },
  {
   "cell_type": "code",
   "execution_count": 5,
   "metadata": {
    "scrolled": false
   },
   "outputs": [
    {
     "name": "stdout",
     "output_type": "stream",
     "text": [
      "<class 'pandas.core.frame.DataFrame'>\n",
      "Index: 17960 entries, 19550 to 15795\n",
      "Columns: 247 entries, clntnum to f_purchase_lh\n",
      "dtypes: float64(44), int64(39), object(164)\n",
      "memory usage: 34.0+ MB\n"
     ]
    }
   ],
   "source": [
    "# Convert datetime columns to duration/age\n",
    "droprows = []\n",
    "for row, client in dropped_df.iterrows():\n",
    "    try:\n",
    "        client['min_occ_date'] = pd.to_datetime(client['min_occ_date'])\n",
    "        client['cltdob_fix'] = pd.to_datetime(client['cltdob_fix'])\n",
    "    except:\n",
    "        droprows.append(row)\n",
    "\n",
    "dropped_df = dropped_df.drop(droprows,axis='index')\n",
    "dropped_df.info()"
   ]
  },
  {
   "cell_type": "code",
   "execution_count": 8,
   "metadata": {
    "collapsed": true
   },
   "outputs": [
    {
     "ename": "KeyError",
     "evalue": "'min_occ_date'",
     "output_type": "error",
     "traceback": [
      "\u001b[1;31m---------------------------------------------------------------------------\u001b[0m",
      "\u001b[1;31mKeyError\u001b[0m                                  Traceback (most recent call last)",
      "File \u001b[1;32m~\\anaconda3\\lib\\site-packages\\pandas\\core\\indexes\\base.py:3802\u001b[0m, in \u001b[0;36mIndex.get_loc\u001b[1;34m(self, key)\u001b[0m\n\u001b[0;32m   3801\u001b[0m \u001b[38;5;28;01mtry\u001b[39;00m:\n\u001b[1;32m-> 3802\u001b[0m     \u001b[38;5;28;01mreturn\u001b[39;00m \u001b[38;5;28;43mself\u001b[39;49m\u001b[38;5;241;43m.\u001b[39;49m\u001b[43m_engine\u001b[49m\u001b[38;5;241;43m.\u001b[39;49m\u001b[43mget_loc\u001b[49m\u001b[43m(\u001b[49m\u001b[43mcasted_key\u001b[49m\u001b[43m)\u001b[49m\n\u001b[0;32m   3803\u001b[0m \u001b[38;5;28;01mexcept\u001b[39;00m \u001b[38;5;167;01mKeyError\u001b[39;00m \u001b[38;5;28;01mas\u001b[39;00m err:\n",
      "File \u001b[1;32mindex.pyx:153\u001b[0m, in \u001b[0;36mpandas._libs.index.IndexEngine.get_loc\u001b[1;34m()\u001b[0m\n",
      "File \u001b[1;32mindex.pyx:182\u001b[0m, in \u001b[0;36mpandas._libs.index.IndexEngine.get_loc\u001b[1;34m()\u001b[0m\n",
      "File \u001b[1;32mpandas\\\\_libs\\\\hashtable_class_helper.pxi:7081\u001b[0m, in \u001b[0;36mpandas._libs.hashtable.PyObjectHashTable.get_item\u001b[1;34m()\u001b[0m\n",
      "File \u001b[1;32mpandas\\\\_libs\\\\hashtable_class_helper.pxi:7089\u001b[0m, in \u001b[0;36mpandas._libs.hashtable.PyObjectHashTable.get_item\u001b[1;34m()\u001b[0m\n",
      "\u001b[1;31mKeyError\u001b[0m: 'min_occ_date'",
      "\nThe above exception was the direct cause of the following exception:\n",
      "\u001b[1;31mKeyError\u001b[0m                                  Traceback (most recent call last)",
      "Input \u001b[1;32mIn [8]\u001b[0m, in \u001b[0;36m<cell line: 3>\u001b[1;34m()\u001b[0m\n\u001b[0;32m      1\u001b[0m curr_date \u001b[38;5;241m=\u001b[39m pd\u001b[38;5;241m.\u001b[39mto_datetime(\u001b[38;5;124m'\u001b[39m\u001b[38;5;124m2024-01-25\u001b[39m\u001b[38;5;124m'\u001b[39m)\n\u001b[1;32m----> 3\u001b[0m dropped_df[\u001b[38;5;124m'\u001b[39m\u001b[38;5;124mmin_occ_date\u001b[39m\u001b[38;5;124m'\u001b[39m] \u001b[38;5;241m=\u001b[39m pd\u001b[38;5;241m.\u001b[39mto_datetime(\u001b[43mdropped_df\u001b[49m\u001b[43m[\u001b[49m\u001b[38;5;124;43m'\u001b[39;49m\u001b[38;5;124;43mmin_occ_date\u001b[39;49m\u001b[38;5;124;43m'\u001b[39;49m\u001b[43m]\u001b[49m)\n\u001b[0;32m      4\u001b[0m dropped_df[\u001b[38;5;124m'\u001b[39m\u001b[38;5;124mmin_occ_year\u001b[39m\u001b[38;5;124m'\u001b[39m] \u001b[38;5;241m=\u001b[39m dropped_df[\u001b[38;5;124m'\u001b[39m\u001b[38;5;124mmin_occ_date\u001b[39m\u001b[38;5;124m'\u001b[39m]\u001b[38;5;241m.\u001b[39mdt\u001b[38;5;241m.\u001b[39myear\n\u001b[0;32m      5\u001b[0m dropped_df[\u001b[38;5;124m'\u001b[39m\u001b[38;5;124mmin_occ_month\u001b[39m\u001b[38;5;124m'\u001b[39m] \u001b[38;5;241m=\u001b[39m dropped_df[\u001b[38;5;124m'\u001b[39m\u001b[38;5;124mmin_occ_date\u001b[39m\u001b[38;5;124m'\u001b[39m]\u001b[38;5;241m.\u001b[39mdt\u001b[38;5;241m.\u001b[39mmonth\n",
      "File \u001b[1;32m~\\anaconda3\\lib\\site-packages\\pandas\\core\\frame.py:4090\u001b[0m, in \u001b[0;36mDataFrame.__getitem__\u001b[1;34m(self, key)\u001b[0m\n\u001b[0;32m   4088\u001b[0m \u001b[38;5;28;01mif\u001b[39;00m \u001b[38;5;28mself\u001b[39m\u001b[38;5;241m.\u001b[39mcolumns\u001b[38;5;241m.\u001b[39mnlevels \u001b[38;5;241m>\u001b[39m \u001b[38;5;241m1\u001b[39m:\n\u001b[0;32m   4089\u001b[0m     \u001b[38;5;28;01mreturn\u001b[39;00m \u001b[38;5;28mself\u001b[39m\u001b[38;5;241m.\u001b[39m_getitem_multilevel(key)\n\u001b[1;32m-> 4090\u001b[0m indexer \u001b[38;5;241m=\u001b[39m \u001b[38;5;28;43mself\u001b[39;49m\u001b[38;5;241;43m.\u001b[39;49m\u001b[43mcolumns\u001b[49m\u001b[38;5;241;43m.\u001b[39;49m\u001b[43mget_loc\u001b[49m\u001b[43m(\u001b[49m\u001b[43mkey\u001b[49m\u001b[43m)\u001b[49m\n\u001b[0;32m   4091\u001b[0m \u001b[38;5;28;01mif\u001b[39;00m is_integer(indexer):\n\u001b[0;32m   4092\u001b[0m     indexer \u001b[38;5;241m=\u001b[39m [indexer]\n",
      "File \u001b[1;32m~\\anaconda3\\lib\\site-packages\\pandas\\core\\indexes\\base.py:3809\u001b[0m, in \u001b[0;36mIndex.get_loc\u001b[1;34m(self, key)\u001b[0m\n\u001b[0;32m   3804\u001b[0m     \u001b[38;5;28;01mif\u001b[39;00m \u001b[38;5;28misinstance\u001b[39m(casted_key, \u001b[38;5;28mslice\u001b[39m) \u001b[38;5;129;01mor\u001b[39;00m (\n\u001b[0;32m   3805\u001b[0m         \u001b[38;5;28misinstance\u001b[39m(casted_key, abc\u001b[38;5;241m.\u001b[39mIterable)\n\u001b[0;32m   3806\u001b[0m         \u001b[38;5;129;01mand\u001b[39;00m \u001b[38;5;28many\u001b[39m(\u001b[38;5;28misinstance\u001b[39m(x, \u001b[38;5;28mslice\u001b[39m) \u001b[38;5;28;01mfor\u001b[39;00m x \u001b[38;5;129;01min\u001b[39;00m casted_key)\n\u001b[0;32m   3807\u001b[0m     ):\n\u001b[0;32m   3808\u001b[0m         \u001b[38;5;28;01mraise\u001b[39;00m InvalidIndexError(key)\n\u001b[1;32m-> 3809\u001b[0m     \u001b[38;5;28;01mraise\u001b[39;00m \u001b[38;5;167;01mKeyError\u001b[39;00m(key) \u001b[38;5;28;01mfrom\u001b[39;00m \u001b[38;5;21;01merr\u001b[39;00m\n\u001b[0;32m   3810\u001b[0m \u001b[38;5;28;01mexcept\u001b[39;00m \u001b[38;5;167;01mTypeError\u001b[39;00m:\n\u001b[0;32m   3811\u001b[0m     \u001b[38;5;66;03m# If we have a listlike key, _check_indexing_error will raise\u001b[39;00m\n\u001b[0;32m   3812\u001b[0m     \u001b[38;5;66;03m#  InvalidIndexError. Otherwise we fall through and re-raise\u001b[39;00m\n\u001b[0;32m   3813\u001b[0m     \u001b[38;5;66;03m#  the TypeError.\u001b[39;00m\n\u001b[0;32m   3814\u001b[0m     \u001b[38;5;28mself\u001b[39m\u001b[38;5;241m.\u001b[39m_check_indexing_error(key)\n",
      "\u001b[1;31mKeyError\u001b[0m: 'min_occ_date'"
     ]
    }
   ],
   "source": [
    "curr_date = pd.to_datetime('2024-01-25')\n",
    "\n",
    "dropped_df['min_occ_date'] = pd.to_datetime(dropped_df['min_occ_date'])\n",
    "dropped_df['min_occ_year'] = dropped_df['min_occ_date'].dt.year\n",
    "dropped_df['min_occ_month'] = dropped_df['min_occ_date'].dt.month\n",
    "dropped_df['min_occ_days'] = (curr_date - dropped_df['min_occ_date']).dt.days\n",
    "\n",
    "dropped_df['cltdob_fix'] = pd.to_datetime(dropped_df['cltdob_fix'])\n",
    "dropped_df['age'] = ((curr_date - dropped_df['cltdob_fix']).dt.days/365.25).apply(lambda x:int(x))\n",
    "\n",
    "dropped_df = dropped_df.drop(['min_occ_date', 'cltdob_fix'], axis=1)\n",
    "dropped_df.head()"
   ]
  },
  {
   "cell_type": "markdown",
   "metadata": {},
   "source": [
    "### Encoding categorical variables"
   ]
  },
  {
   "cell_type": "markdown",
   "metadata": {},
   "source": [
    "#### Test for PCA relevance"
   ]
  },
  {
   "cell_type": "code",
   "execution_count": 7,
   "metadata": {},
   "outputs": [
    {
     "name": "stdout",
     "output_type": "stream",
     "text": [
      "<class 'pandas.core.frame.DataFrame'>\n",
      "Index: 17960 entries, 19550 to 15795\n",
      "Data columns (total 5 columns):\n",
      " #   Column         Non-Null Count  Dtype  \n",
      "---  ------         --------------  -----  \n",
      " 0   race_desc      13995 non-null  object \n",
      " 1   ctrycode_desc  17940 non-null  object \n",
      " 2   stat_flag      17960 non-null  object \n",
      " 3   cltsex_fix     17958 non-null  object \n",
      " 4   f_purchase_lh  17960 non-null  float64\n",
      "dtypes: float64(1), object(4)\n",
      "memory usage: 841.9+ KB\n",
      "<class 'pandas.core.frame.DataFrame'>\n",
      "Index: 13995 entries, 19550 to 15795\n",
      "Data columns (total 5 columns):\n",
      " #   Column         Non-Null Count  Dtype  \n",
      "---  ------         --------------  -----  \n",
      " 0   race_desc      13995 non-null  object \n",
      " 1   ctrycode_desc  13995 non-null  object \n",
      " 2   stat_flag      13995 non-null  object \n",
      " 3   cltsex_fix     13995 non-null  object \n",
      " 4   f_purchase_lh  13995 non-null  float64\n",
      "dtypes: float64(1), object(4)\n",
      "memory usage: 656.0+ KB\n"
     ]
    }
   ],
   "source": [
    "temp = dropped_df[['race_desc','ctrycode_desc','stat_flag','cltsex_fix','f_purchase_lh']]\n",
    "temp.info()\n",
    "temp = temp.dropna(subset=['race_desc','ctrycode_desc','stat_flag','cltsex_fix'])\n",
    "temp.info()"
   ]
  },
  {
   "cell_type": "code",
   "execution_count": 15,
   "metadata": {},
   "outputs": [
    {
     "data": {
      "text/plain": [
       "6.07"
      ]
     },
     "execution_count": 15,
     "metadata": {},
     "output_type": "execute_result"
    }
   ],
   "source": [
    "round((dropped_df['f_purchase_lh'].sum() - temp['f_purchase_lh'].sum())/dropped_df['f_purchase_lh'].sum()*100,2)"
   ]
  },
  {
   "cell_type": "code",
   "execution_count": 16,
   "metadata": {},
   "outputs": [],
   "source": [
    "cat_cols = list(temp.columns)[:-1]"
   ]
  },
  {
   "cell_type": "code",
   "execution_count": 17,
   "metadata": {},
   "outputs": [
    {
     "name": "stdout",
     "output_type": "stream",
     "text": [
      "<class 'pandas.core.frame.DataFrame'>\n",
      "Index: 13995 entries, 19550 to 15795\n",
      "Data columns (total 36 columns):\n",
      " #   Column                              Non-Null Count  Dtype  \n",
      "---  ------                              --------------  -----  \n",
      " 0   f_purchase_lh                       13995 non-null  float64\n",
      " 1   race_desc_Chinese                   13995 non-null  bool   \n",
      " 2   race_desc_Indian                    13995 non-null  bool   \n",
      " 3   race_desc_Malay                     13995 non-null  bool   \n",
      " 4   race_desc_Others                    13995 non-null  bool   \n",
      " 5   ctrycode_desc_Australia             13995 non-null  bool   \n",
      " 6   ctrycode_desc_Bosnia-Herzegovina    13995 non-null  bool   \n",
      " 7   ctrycode_desc_Brunei Darussalam     13995 non-null  bool   \n",
      " 8   ctrycode_desc_Canada                13995 non-null  bool   \n",
      " 9   ctrycode_desc_China                 13995 non-null  bool   \n",
      " 10  ctrycode_desc_Denmark               13995 non-null  bool   \n",
      " 11  ctrycode_desc_Hong Kong             13995 non-null  bool   \n",
      " 12  ctrycode_desc_Indonesia             13995 non-null  bool   \n",
      " 13  ctrycode_desc_Ireland               13995 non-null  bool   \n",
      " 14  ctrycode_desc_Italy                 13995 non-null  bool   \n",
      " 15  ctrycode_desc_Japan                 13995 non-null  bool   \n",
      " 16  ctrycode_desc_Malaysia              13995 non-null  bool   \n",
      " 17  ctrycode_desc_Netherlands           13995 non-null  bool   \n",
      " 18  ctrycode_desc_New Zealand           13995 non-null  bool   \n",
      " 19  ctrycode_desc_Not Applicable        13995 non-null  bool   \n",
      " 20  ctrycode_desc_Philippines           13995 non-null  bool   \n",
      " 21  ctrycode_desc_Singapore             13995 non-null  bool   \n",
      " 22  ctrycode_desc_South Africa          13995 non-null  bool   \n",
      " 23  ctrycode_desc_Spain                 13995 non-null  bool   \n",
      " 24  ctrycode_desc_Sweden                13995 non-null  bool   \n",
      " 25  ctrycode_desc_Taiwan (R.O.C)        13995 non-null  bool   \n",
      " 26  ctrycode_desc_Thailand              13995 non-null  bool   \n",
      " 27  ctrycode_desc_United Arab Emirates  13995 non-null  bool   \n",
      " 28  ctrycode_desc_United Kingdom        13995 non-null  bool   \n",
      " 29  ctrycode_desc_United States         13995 non-null  bool   \n",
      " 30  ctrycode_desc_Unknown Country Code  13995 non-null  bool   \n",
      " 31  stat_flag_ACTIVE                    13995 non-null  bool   \n",
      " 32  stat_flag_LAPSED                    13995 non-null  bool   \n",
      " 33  stat_flag_MATURED                   13995 non-null  bool   \n",
      " 34  cltsex_fix_Female                   13995 non-null  bool   \n",
      " 35  cltsex_fix_Male                     13995 non-null  bool   \n",
      "dtypes: bool(35), float64(1)\n",
      "memory usage: 697.0 KB\n",
      "<class 'pandas.core.frame.DataFrame'>\n",
      "Index: 13995 entries, 19550 to 15795\n",
      "Data columns (total 27 columns):\n",
      " #   Column                              Non-Null Count  Dtype  \n",
      "---  ------                              --------------  -----  \n",
      " 0   f_purchase_lh                       13995 non-null  float64\n",
      " 1   race_desc_Chinese                   13995 non-null  bool   \n",
      " 2   race_desc_Indian                    13995 non-null  bool   \n",
      " 3   race_desc_Malay                     13995 non-null  bool   \n",
      " 4   race_desc_Others                    13995 non-null  bool   \n",
      " 5   ctrycode_desc_Australia             13995 non-null  bool   \n",
      " 6   ctrycode_desc_China                 13995 non-null  bool   \n",
      " 7   ctrycode_desc_Denmark               13995 non-null  bool   \n",
      " 8   ctrycode_desc_Hong Kong             13995 non-null  bool   \n",
      " 9   ctrycode_desc_Indonesia             13995 non-null  bool   \n",
      " 10  ctrycode_desc_Japan                 13995 non-null  bool   \n",
      " 11  ctrycode_desc_Malaysia              13995 non-null  bool   \n",
      " 12  ctrycode_desc_Not Applicable        13995 non-null  bool   \n",
      " 13  ctrycode_desc_Philippines           13995 non-null  bool   \n",
      " 14  ctrycode_desc_Singapore             13995 non-null  bool   \n",
      " 15  ctrycode_desc_South Africa          13995 non-null  bool   \n",
      " 16  ctrycode_desc_Taiwan (R.O.C)        13995 non-null  bool   \n",
      " 17  ctrycode_desc_Thailand              13995 non-null  bool   \n",
      " 18  ctrycode_desc_United Arab Emirates  13995 non-null  bool   \n",
      " 19  ctrycode_desc_United Kingdom        13995 non-null  bool   \n",
      " 20  ctrycode_desc_United States         13995 non-null  bool   \n",
      " 21  ctrycode_desc_Unknown Country Code  13995 non-null  bool   \n",
      " 22  stat_flag_ACTIVE                    13995 non-null  bool   \n",
      " 23  stat_flag_LAPSED                    13995 non-null  bool   \n",
      " 24  stat_flag_MATURED                   13995 non-null  bool   \n",
      " 25  cltsex_fix_Female                   13995 non-null  bool   \n",
      " 26  cltsex_fix_Male                     13995 non-null  bool   \n",
      "dtypes: bool(26), float64(1)\n",
      "memory usage: 574.0 KB\n"
     ]
    }
   ],
   "source": [
    "temp_encoded = pd.get_dummies(temp, columns=cat_cols)\n",
    "temp_encoded.info()\n",
    "\n",
    "temp_encoded = temp_encoded.loc[:, temp_encoded.sum() > 1] # remove cols with only 1 entry i.e. only one obs in dataset\n",
    "temp_encoded.info()"
   ]
  },
  {
   "cell_type": "code",
   "execution_count": 18,
   "metadata": {},
   "outputs": [
    {
     "name": "stdout",
     "output_type": "stream",
     "text": [
      "(13995, 2)\n",
      "(13995, 26)\n"
     ]
    }
   ],
   "source": [
    "from sklearn.decomposition import PCA\n",
    "pca = PCA(n_components = 2)\n",
    "temp_encoded_train = temp_encoded.drop(['f_purchase_lh'],axis=1)\n",
    "pca.fit(temp_encoded_train)\n",
    "x_pca = pca.transform(temp_encoded_train)\n",
    "\n",
    "print(x_pca.shape)\n",
    "\n",
    "print(temp_encoded_train.shape)"
   ]
  },
  {
   "cell_type": "code",
   "execution_count": 19,
   "metadata": {
    "scrolled": true
   },
   "outputs": [
    {
     "data": {
      "text/plain": [
       "Text(0, 0.5, 'Second Principal Component')"
      ]
     },
     "execution_count": 19,
     "metadata": {},
     "output_type": "execute_result"
    },
    {
     "data": {
      "image/png": "[encoded data removed]",
      "text/plain": [
       "<Figure size 432x288 with 1 Axes>"
      ]
     },
     "metadata": {
      "needs_background": "light"
     },
     "output_type": "display_data"
    }
   ],
   "source": [
    "plt.scatter(x_pca[:,0],x_pca[:,1], c=temp_encoded['f_purchase_lh'])\n",
    "\n",
    "plt.xlabel('First Principal Component')\n",
    "\n",
    "plt.ylabel('Second Principal Component')"
   ]
  },
  {
   "cell_type": "code",
   "execution_count": 20,
   "metadata": {
    "scrolled": true
   },
   "outputs": [
    {
     "data": {
      "text/plain": [
       "array([[-9.44520391e-02,  2.49463544e-02,  1.57821477e-02,\n",
       "         5.37235370e-02,  7.68827565e-04, -8.28163566e-06,\n",
       "         2.74630124e-05,  2.06190941e-04,  1.25378698e-03,\n",
       "         2.74630124e-05, -9.86685166e-04,  4.17029435e-04,\n",
       "         1.41112765e-04, -2.55023507e-03,  2.27259376e-04,\n",
       "         1.20041333e-04,  1.20041333e-04, -2.58536787e-04,\n",
       "         2.19608613e-04,  1.56347300e-04,  1.20041333e-04,\n",
       "         5.12763490e-03, -4.35161659e-03, -7.76018314e-04,\n",
       "        -7.02589942e-01,  7.02589942e-01],\n",
       "       [-8.33224564e-01,  1.64824512e-01,  1.88539271e-01,\n",
       "         4.79860781e-01, -2.14798363e-04,  5.83525048e-05,\n",
       "         5.78282056e-04,  1.67931046e-04,  1.56997258e-03,\n",
       "         5.78282056e-04, -4.03308270e-03,  1.22167278e-03,\n",
       "         8.45523997e-04, -9.50576787e-03,  5.34012427e-04,\n",
       "         4.79340526e-04,  4.79340526e-04,  9.34087945e-04,\n",
       "         2.49717736e-03,  1.16104998e-03,  4.79340526e-04,\n",
       "        -3.49213198e-03,  3.92480919e-03, -4.32677210e-04,\n",
       "         7.93946426e-02, -7.93946426e-02]])"
      ]
     },
     "execution_count": 20,
     "metadata": {},
     "output_type": "execute_result"
    }
   ],
   "source": [
    "pca.components_"
   ]
  },
  {
   "cell_type": "code",
   "execution_count": 21,
   "metadata": {},
   "outputs": [],
   "source": [
    "# Calculate PC 1/2 with significant variables (>0.05)\n",
    "pc_1 = list(i if abs(i) >= 0.05 else 0 for i in pca.components_[0])\n",
    "pc_2 = list(i if abs(i) >= 0.05 else 0 for i in pca.components_[1])"
   ]
  },
  {
   "cell_type": "markdown",
   "metadata": {},
   "source": [
    "Assume significance > 0.05 <br>\n",
    "1st PC significance: race_desc_Chinese, race_desc_Others, cltsex_fix_Female <br>\n",
    "2nd PC significance: race_desc_Chinese, race_desc_Indian, race_desc_Malay, race_desc_Others, cltsex_fix_Female"
   ]
  },
  {
   "cell_type": "markdown",
   "metadata": {},
   "source": [
    "### PCA Analysis - TBC"
   ]
  },
  {
   "cell_type": "code",
   "execution_count": 28,
   "metadata": {},
   "outputs": [],
   "source": [
    "temp_encoded['pc1'] = temp_encoded['race_desc_Chinese']*pc_1[0] + temp_encoded['race_desc_Others']*pc_1[3] + temp_encoded['cltsex_fix_Female']*pc_1[-2]\n",
    "temp_encoded['pc2'] = temp_encoded['race_desc_Chinese']*pc_1[0] + temp_encoded['race_desc_Indian']*pc_1[1] + temp_encoded['race_desc_Malay']*pc_1[2] + temp_encoded['race_desc_Others']*pc_1[3] + temp_encoded['cltsex_fix_Female']*pc_1[-2]"
   ]
  },
  {
   "cell_type": "code",
   "execution_count": 49,
   "metadata": {
    "scrolled": false
   },
   "outputs": [
    {
     "data": {
      "text/plain": [
       "Text(0, 0.5, 'Second Principal Component')"
      ]
     },
     "execution_count": 49,
     "metadata": {},
     "output_type": "execute_result"
    },
    {
     "data": {
      "image/png": "[encoded data removed]",
      "text/plain": [
       "<Figure size 432x288 with 1 Axes>"
      ]
     },
     "metadata": {
      "needs_background": "light"
     },
     "output_type": "display_data"
    }
   ],
   "source": [
    "plt.scatter(temp_encoded['pc1'],temp_encoded['pc2'], c=temp_encoded['f_purchase_lh'])\n",
    "\n",
    "plt.xlabel('First Principal Component')\n",
    "\n",
    "plt.ylabel('Second Principal Component')\n",
    "\n",
    "#plt.axvline(x=-0.635, color='red', linestyle='--', label='Vertical Line at x=-0.635')\n",
    "#plt.axvline(x=-0.665, color='red', linestyle='--', label='Vertical Line at x=-0.665')\n",
    "\n",
    "#plt.axhline(y=-0.63, color='red', linestyle='--', label='Vertical Line at x=-0.63')\n",
    "#plt.axhline(y=-0.67, color='red', linestyle='--', label='Vertical Line at x=-0.67')"
   ]
  },
  {
   "cell_type": "code",
   "execution_count": 9,
   "metadata": {},
   "outputs": [],
   "source": [
    "import numpy as np\n",
    "import seaborn\n",
    "%matplotlib inline"
   ]
  },
  {
   "cell_type": "markdown",
   "metadata": {},
   "source": [
    "## The cell below is **NOT** to be removed\n",
    "##### The function is to be amended so that it accepts the given input (dataframe) and returns the required output (list). \n",
    "##### It is recommended to test the function out prior to submission\n",
    "-------------------------------------------------------------------------------------------------------------------------------\n",
    "##### The hidden_data parsed into the function below will have the same layout columns wise as the dataset *SENT* to you\n",
    "##### Thus, ensure that steps taken to modify the initial dataset to fit into the model are also carried out in the function below"
   ]
  },
  {
   "cell_type": "code",
   "execution_count": 76,
   "metadata": {},
   "outputs": [],
   "source": [
    "def testing_hidden_data(hidden_data: pd.DataFrame) -> list:\n",
    "    '''DO NOT REMOVE THIS FUNCTION.\n",
    "\n",
    "The function accepts a dataframe as input and return an iterable (list)\n",
    "of binary classes as output.\n",
    "\n",
    "The function should be coded to test on hidden data\n",
    "and should include any preprocessing functions needed for your model to perform. \n",
    "    \n",
    "All relevant code MUST be included in this function.'''\n",
    "    result = [] \n",
    "    return result"
   ]
  },
  {
   "cell_type": "markdown",
   "metadata": {},
   "source": [
    "##### Cell to check testing_hidden_data function"
   ]
  },
  {
   "cell_type": "code",
   "execution_count": 77,
   "metadata": {},
   "outputs": [
    {
     "name": "stdout",
     "output_type": "stream",
     "text": [
      "[]\n"
     ]
    }
   ],
   "source": [
    "# This cell should output a list of predictions.\n",
    "test_df = pd.read_parquet(filepath)\n",
    "test_df = test_df.drop(columns=[\"f_purchase_lh\"])\n",
    "print(testing_hidden_data(test_df))"
   ]
  },
  {
   "cell_type": "markdown",
   "metadata": {},
   "source": [
    "### Please have the filename renamed and ensure that it can be run with the requirements above being met. All the best!"
   ]
  }
 ],
 "metadata": {
  "kernelspec": {
   "display_name": "Python 3 (ipykernel)",
   "language": "python",
   "name": "python3"
  },
  "language_info": {
   "codemirror_mode": {
    "name": "ipython",
    "version": 3
   },
   "file_extension": ".py",
   "mimetype": "text/x-python",
   "name": "python",
   "nbconvert_exporter": "python",
   "pygments_lexer": "ipython3",
   "version": "3.9.12"
  }
 },
 "nbformat": 4,
 "nbformat_minor": 2
}
